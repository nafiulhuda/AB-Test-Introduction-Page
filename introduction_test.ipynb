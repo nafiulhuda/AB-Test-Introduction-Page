{
 "cells": [
  {
   "cell_type": "markdown",
   "metadata": {
    "id": "vbloO6W0bqh-"
   },
   "source": [
    "## **STUDY CASE : A/B testing on adding an introduction page**\n",
    "\n"
   ]
  },
  {
   "cell_type": "markdown",
   "metadata": {
    "id": "qwe_oJoXZgd_"
   },
   "source": [
    "#Import Package"
   ]
  },
  {
   "cell_type": "code",
   "execution_count": 1,
   "metadata": {
    "id": "unvw7M-tRD15"
   },
   "outputs": [],
   "source": [
    "import numpy as np\n",
    "import pandas as pd\n",
    "import scipy.stats as stats\n",
    "import statsmodels.stats.api as sms\n",
    "import matplotlib as mpl\n",
    "import matplotlib.pyplot as plt\n",
    "import seaborn as sns\n",
    "import math"
   ]
  },
  {
   "cell_type": "markdown",
   "metadata": {
    "id": "1FJ52BLxQH6c"
   },
   "source": [
    "#Additional : Sample Size Calculation"
   ]
  },
  {
   "cell_type": "code",
   "execution_count": 2,
   "metadata": {
    "id": "boecbQY6P2_6"
   },
   "outputs": [],
   "source": [
    "effect_size = sms.proportion_effectsize(0.41, 0.43)"
   ]
  },
  {
   "cell_type": "code",
   "execution_count": 3,
   "metadata": {
    "colab": {
     "base_uri": "https://localhost:8080/"
    },
    "id": "F5moQAaDQiwZ",
    "outputId": "a0d56398-dc3a-4859-9dd9-8ac09f512a76"
   },
   "outputs": [
    {
     "name": "stdout",
     "output_type": "stream",
     "text": [
      "9559\n"
     ]
    }
   ],
   "source": [
    "required_n = sms.NormalIndPower().solve_power(\n",
    "    effect_size,\n",
    "    power=0.8,\n",
    "    alpha=0.05,\n",
    "    ratio=1\n",
    ")\n",
    "\n",
    "required_n = math.ceil(required_n)\n",
    "print(required_n)"
   ]
  },
  {
   "cell_type": "markdown",
   "metadata": {
    "id": "y_07X8GMSzDC"
   },
   "source": [
    "Experiment Design:\n",
    "*   Ho : Penambahan introductory page tidak secara signifikan mempengaruhi screening completion rate\n",
    "*   H1 : Penambahan introductory page secara signifikan mempengaruhi screening completion rate\n",
    "*   Significance level : 5%\n",
    "*   Power : 80%\n",
    "*   MDE : 5%\n",
    "\n",
    "\n",
    "\n",
    "\n",
    "\n"
   ]
  },
  {
   "cell_type": "markdown",
   "metadata": {
    "id": "acdrv8P3UJXI"
   },
   "source": [
    "#Step 1 : Import Data"
   ]
  },
  {
   "cell_type": "code",
   "execution_count": 4,
   "metadata": {
    "colab": {
     "base_uri": "https://localhost:8080/",
     "height": 206
    },
    "id": "5oHXAcLuT-D-",
    "outputId": "706d8ed4-8bfe-49e8-d1aa-5bba16143e6e"
   },
   "outputs": [
    {
     "data": {
      "text/html": [
       "<div>\n",
       "<style scoped>\n",
       "    .dataframe tbody tr th:only-of-type {\n",
       "        vertical-align: middle;\n",
       "    }\n",
       "\n",
       "    .dataframe tbody tr th {\n",
       "        vertical-align: top;\n",
       "    }\n",
       "\n",
       "    .dataframe thead th {\n",
       "        text-align: right;\n",
       "    }\n",
       "</style>\n",
       "<table border=\"1\" class=\"dataframe\">\n",
       "  <thead>\n",
       "    <tr style=\"text-align: right;\">\n",
       "      <th></th>\n",
       "      <th>user_id</th>\n",
       "      <th>variant</th>\n",
       "      <th>last_7d_activation</th>\n",
       "      <th>exp_7d_activation</th>\n",
       "    </tr>\n",
       "  </thead>\n",
       "  <tbody>\n",
       "    <tr>\n",
       "      <th>0</th>\n",
       "      <td>1</td>\n",
       "      <td>Control</td>\n",
       "      <td>0</td>\n",
       "      <td>0</td>\n",
       "    </tr>\n",
       "    <tr>\n",
       "      <th>1</th>\n",
       "      <td>2</td>\n",
       "      <td>Control</td>\n",
       "      <td>1</td>\n",
       "      <td>0</td>\n",
       "    </tr>\n",
       "    <tr>\n",
       "      <th>2</th>\n",
       "      <td>3</td>\n",
       "      <td>Control</td>\n",
       "      <td>1</td>\n",
       "      <td>0</td>\n",
       "    </tr>\n",
       "    <tr>\n",
       "      <th>3</th>\n",
       "      <td>4</td>\n",
       "      <td>Control</td>\n",
       "      <td>0</td>\n",
       "      <td>0</td>\n",
       "    </tr>\n",
       "    <tr>\n",
       "      <th>4</th>\n",
       "      <td>5</td>\n",
       "      <td>Control</td>\n",
       "      <td>0</td>\n",
       "      <td>0</td>\n",
       "    </tr>\n",
       "  </tbody>\n",
       "</table>\n",
       "</div>"
      ],
      "text/plain": [
       "   user_id  variant  last_7d_activation  exp_7d_activation\n",
       "0        1  Control                   0                  0\n",
       "1        2  Control                   1                  0\n",
       "2        3  Control                   1                  0\n",
       "3        4  Control                   0                  0\n",
       "4        5  Control                   0                  0"
      ]
     },
     "execution_count": 4,
     "metadata": {},
     "output_type": "execute_result"
    }
   ],
   "source": [
    "data = pd.read_csv(\"introductory_test.csv\")\n",
    "data.head()"
   ]
  },
  {
   "cell_type": "markdown",
   "metadata": {
    "id": "LO_uYi_yZ9vY"
   },
   "source": [
    "#Step 2 : Calculate Activation Rate"
   ]
  },
  {
   "cell_type": "code",
   "execution_count": 5,
   "metadata": {
    "colab": {
     "base_uri": "https://localhost:8080/",
     "height": 143
    },
    "id": "8_X9QByMU2tA",
    "outputId": "0265877b-ec50-4688-e2f9-b0b4f97fa9a9"
   },
   "outputs": [
    {
     "data": {
      "text/html": [
       "<div>\n",
       "<style scoped>\n",
       "    .dataframe tbody tr th:only-of-type {\n",
       "        vertical-align: middle;\n",
       "    }\n",
       "\n",
       "    .dataframe tbody tr th {\n",
       "        vertical-align: top;\n",
       "    }\n",
       "\n",
       "    .dataframe thead th {\n",
       "        text-align: right;\n",
       "    }\n",
       "</style>\n",
       "<table border=\"1\" class=\"dataframe\">\n",
       "  <thead>\n",
       "    <tr style=\"text-align: right;\">\n",
       "      <th></th>\n",
       "      <th>total_user</th>\n",
       "      <th>last7d_cvr</th>\n",
       "      <th>exp7d_cvr</th>\n",
       "    </tr>\n",
       "    <tr>\n",
       "      <th>variant</th>\n",
       "      <th></th>\n",
       "      <th></th>\n",
       "      <th></th>\n",
       "    </tr>\n",
       "  </thead>\n",
       "  <tbody>\n",
       "    <tr>\n",
       "      <th>Control</th>\n",
       "      <td>15000</td>\n",
       "      <td>0.460667</td>\n",
       "      <td>0.413000</td>\n",
       "    </tr>\n",
       "    <tr>\n",
       "      <th>Treatment</th>\n",
       "      <td>15000</td>\n",
       "      <td>0.463267</td>\n",
       "      <td>0.451133</td>\n",
       "    </tr>\n",
       "  </tbody>\n",
       "</table>\n",
       "</div>"
      ],
      "text/plain": [
       "           total_user  last7d_cvr  exp7d_cvr\n",
       "variant                                     \n",
       "Control         15000    0.460667   0.413000\n",
       "Treatment       15000    0.463267   0.451133"
      ]
     },
     "execution_count": 5,
     "metadata": {},
     "output_type": "execute_result"
    }
   ],
   "source": [
    "grouped_data = data.groupby([\"variant\"]).agg(\n",
    "    total_user = ('user_id', 'count'),\n",
    "    last_7d_activation=('last_7d_activation', 'sum'),\n",
    "    exp_7d_activation=('exp_7d_activation', sum)\n",
    ")\n",
    "\n",
    "grouped_data['last7d_cvr'] = grouped_data['last_7d_activation']/grouped_data['total_user']\n",
    "grouped_data['exp7d_cvr'] = grouped_data['exp_7d_activation']/grouped_data['total_user']\n",
    "grouped_data=grouped_data[[\"total_user\", \"last7d_cvr\", \"exp7d_cvr\"]]\n",
    "\n",
    "grouped_data"
   ]
  },
  {
   "cell_type": "code",
   "execution_count": 6,
   "metadata": {
    "colab": {
     "base_uri": "https://localhost:8080/",
     "height": 686
    },
    "id": "F6j0E0ViVix_",
    "outputId": "b30098f3-5012-4ae4-9d0b-0937aabdd01b"
   },
   "outputs": [
    {
     "data": {
      "image/png": "[encoded data removed]",
      "text/plain": [
       "<Figure size 800x600 with 1 Axes>"
      ]
     },
     "metadata": {},
     "output_type": "display_data"
    }
   ],
   "source": [
    "plt.figure(figsize=(8,6));\n",
    "sns.barplot(x=data[\"variant\"], y=data[\"exp_7d_activation\"], ci=False);\n",
    "\n",
    "\n",
    "plt.ylim(0, 0.5);\n",
    "plt.title(\"Conversion rate by group\", pad=20);\n",
    "plt.xlabel(\"variant\", labelpad=15);\n",
    "plt.ylabel(\"exp_7d_activation (sum)\", labelpad=15);"
   ]
  },
  {
   "cell_type": "markdown",
   "metadata": {
    "id": "OCxlnDx-aN8_"
   },
   "source": [
    "#Hypothesis Testing (C-Square)"
   ]
  },
  {
   "cell_type": "code",
   "execution_count": 7,
   "metadata": {
    "colab": {
     "base_uri": "https://localhost:8080/"
    },
    "id": "IgOZ4rIrXJGi",
    "outputId": "6a775d9b-3636-4742-e770-a55c5e8864b9"
   },
   "outputs": [
    {
     "name": "stdout",
     "output_type": "stream",
     "text": [
      "2.8320088604280797e-11\n"
     ]
    }
   ],
   "source": [
    "from scipy.stats.distributions import chi2\n",
    "contigency = pd.crosstab(data[\"variant\"], data[\"exp_7d_activation\"])\n",
    "\n",
    "from scipy.stats import chi2_contingency\n",
    "c, p, dof, expected = chi2_contingency(contigency)\n",
    "\n",
    "print(p)"
   ]
  },
  {
   "cell_type": "markdown",
   "metadata": {
    "id": "UfBcZKA8agGD"
   },
   "source": [
    "#Summary"
   ]
  },
  {
   "cell_type": "markdown",
   "metadata": {
    "id": "AF2XvJnGa4WP"
   },
   "source": [
    "*   Conversion rate from treatment group (46%) > control group (41%) or an increase of 13%\n",
    "*   From the results of the chi-square statistical test, it is known that the p-value is 2.8e-11 or smaller than the significance level of 5%\n",
    "*   From the results of the statistical test above, we can reject the null hypothesis, which means that the new introduction page has an influence on the screening completion rate\n",
    "\n",
    "\n",
    "\n"
   ]
  },
  {
   "cell_type": "code",
   "execution_count": null,
   "metadata": {},
   "outputs": [],
   "source": []
  }
 ],
 "metadata": {
  "colab": {
   "provenance": []
  },
  "kernelspec": {
   "display_name": "Python 3 (ipykernel)",
   "language": "python",
   "name": "python3"
  },
  "language_info": {
   "codemirror_mode": {
    "name": "ipython",
    "version": 3
   },
   "file_extension": ".py",
   "mimetype": "text/x-python",
   "name": "python",
   "nbconvert_exporter": "python",
   "pygments_lexer": "ipython3",
   "version": "3.9.13"
  }
 },
 "nbformat": 4,
 "nbformat_minor": 1
}
